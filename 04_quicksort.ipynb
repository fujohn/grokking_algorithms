{
 "cells": [
  {
   "attachments": {},
   "cell_type": "markdown",
   "metadata": {},
   "source": [
    "Quicksort's speed depends on the pivot you choose. Worst case will be O(n^2) - same as selection sort. On average, it is O(n log n). Randomizing the pivot is guaranteed O(n log n)."
   ]
  },
  {
   "cell_type": "code",
   "execution_count": 3,
   "metadata": {},
   "outputs": [
    {
     "name": "stdout",
     "output_type": "stream",
     "text": [
      "[2, 3, 5, 10]\n"
     ]
    }
   ],
   "source": [
    "def quicksort(lst):\n",
    "    if len(lst) < 2: # base case, list of 0 and 1 are already sorted\n",
    "        return lst\n",
    "    else:\n",
    "        pivot = lst[0]\n",
    "        less = [i for i in lst[1:] if i <= pivot] # anything smaller than first item goes to its left\n",
    "        greater = [i for i in lst[1:] if i > pivot] # anything larger than first item goes to its right\n",
    "        return quicksort(less) + [pivot] + quicksort(greater)\n",
    "\n",
    "print(quicksort([10,5,2,3]))"
   ]
  },
  {
   "cell_type": "code",
   "execution_count": 15,
   "metadata": {},
   "outputs": [
    {
     "name": "stdout",
     "output_type": "stream",
     "text": [
      "4.1: 6\n",
      "4.2: 10\n",
      "4.3: 49281\n",
      "4.4: 6\n"
     ]
    }
   ],
   "source": [
    "# Exercises\n",
    "# 4.1 Write out code for the sum function with recursion\n",
    "def sum(lst):\n",
    "    if lst == []:\n",
    "        return 0\n",
    "    else:\n",
    "        return lst[0] + sum(lst[1:])\n",
    "print(\"4.1:\", sum([1,2,3]))\n",
    "\n",
    "# 4.2 Write a recursive function to count the number of items in a list\n",
    "def counting(lst):\n",
    "    if lst == []:\n",
    "        return 0\n",
    "    else: \n",
    "        return 1 + counting(lst[1:])\n",
    "print(\"4.2:\", counting([1,2,3,4,5,6,7,8,9,'test']))\n",
    "\n",
    "# 4.3 Find the maximum number in a list\n",
    "def max_in_list(lst):\n",
    "    # exception cases\n",
    "    if lst == []:\n",
    "        return 0\n",
    "    if len(lst) == 1:\n",
    "        return lst[0]\n",
    "    # base case, compare the last 2 items\n",
    "    if len(lst) == 2:\n",
    "        if lst[0] > lst[1]:\n",
    "            return lst[0]\n",
    "        else:\n",
    "            return lst[1]\n",
    "    else:\n",
    "        sub_lst = lst[1:]\n",
    "        sub_max = max_in_list(sub_lst)\n",
    "        if lst[0] > sub_max:\n",
    "            return lst[0]\n",
    "        else:\n",
    "            return sub_max\n",
    "print(\"4.3:\", max_in_list([123,2,2091,3209,32,49281,983,3242,9,-3]))\n",
    "\n",
    "# 4.4 Recursive binary search\n",
    "def binary_search(lst, item):\n",
    "    # exception case (not found)\n",
    "    if len(lst) == 0:\n",
    "        return \"Value not in list\"\n",
    "    mid_idx = len(lst) // 2\n",
    "    mid_val = lst[mid_idx]\n",
    "    # base case\n",
    "    if mid_val == item:\n",
    "        return mid_idx\n",
    "    # recursion if over\n",
    "    if mid_val > item:\n",
    "        sub_lst = lst[:mid_idx - 1]\n",
    "        return binary_search(sub_lst, item)\n",
    "    # recursion if under\n",
    "    else:\n",
    "        sub_lst = lst[mid_idx + 1:]\n",
    "        return mid_idx + 1 + binary_search(sub_lst, item) # cannot let indices reset!\n",
    "print(\"4.4:\", binary_search([1,7,9,13,78,158,290,500,3891,192893], 290)) #6\n"
   ]
  },
  {
   "cell_type": "markdown",
   "metadata": {},
   "source": []
  }
 ],
 "metadata": {
  "kernelspec": {
   "display_name": "Python 3.9.13 64-bit (microsoft store)",
   "language": "python",
   "name": "python3"
  },
  "language_info": {
   "codemirror_mode": {
    "name": "ipython",
    "version": 3
   },
   "file_extension": ".py",
   "mimetype": "text/x-python",
   "name": "python",
   "nbconvert_exporter": "python",
   "pygments_lexer": "ipython3",
   "version": "3.9.13"
  },
  "orig_nbformat": 4,
  "vscode": {
   "interpreter": {
    "hash": "b2ddd62d3916e1314aeb2a2a333a2f9ca5e78cd48ba171057379eb2164a7ad87"
   }
  }
 },
 "nbformat": 4,
 "nbformat_minor": 2
}
