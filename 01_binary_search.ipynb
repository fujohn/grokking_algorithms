{
 "cells": [
  {
   "cell_type": "markdown",
   "metadata": {},
   "source": [
    "Binary Search allows the search of an array/list to be at O(log N) speed.\n",
    "- list must first be sorted and it will cut 50% each time until there is no more to search from"
   ]
  },
  {
   "cell_type": "code",
   "execution_count": 1,
   "metadata": {},
   "outputs": [],
   "source": [
    "def binary_search(list, item):\n",
    "    # starting with first and last indeces as ranges\n",
    "    low = 0\n",
    "    high = len(list) - 1\n",
    "    # while loop to keep iterating\n",
    "    while low <= high:\n",
    "        # find mid point index\n",
    "        mid = (low + high) // 2\n",
    "        guess = list[mid]\n",
    "        # compare with item\n",
    "        if guess == item: # found item\n",
    "            return item\n",
    "        elif guess > item: # item is smaller (on the left side)\n",
    "            high = mid - 1\n",
    "        else: # item is larger (on the right side)\n",
    "            low = mid + 1\n",
    "    # while list ends because not in list\n",
    "    return None\n",
    "\n"
   ]
  },
  {
   "cell_type": "code",
   "execution_count": 2,
   "metadata": {},
   "outputs": [
    {
     "name": "stdout",
     "output_type": "stream",
     "text": [
      "3\n",
      "None\n"
     ]
    }
   ],
   "source": [
    "my_list = [1,3,5,7,9]\n",
    "print(binary_search(my_list, 3))\n",
    "print(binary_search(my_list, -1))"
   ]
  }
 ],
 "metadata": {
  "kernelspec": {
   "display_name": "Python 3.9.13 64-bit (microsoft store)",
   "language": "python",
   "name": "python3"
  },
  "language_info": {
   "codemirror_mode": {
    "name": "ipython",
    "version": 3
   },
   "file_extension": ".py",
   "mimetype": "text/x-python",
   "name": "python",
   "nbconvert_exporter": "python",
   "pygments_lexer": "ipython3",
   "version": "3.9.13"
  },
  "orig_nbformat": 4,
  "vscode": {
   "interpreter": {
    "hash": "b2ddd62d3916e1314aeb2a2a333a2f9ca5e78cd48ba171057379eb2164a7ad87"
   }
  }
 },
 "nbformat": 4,
 "nbformat_minor": 2
}
