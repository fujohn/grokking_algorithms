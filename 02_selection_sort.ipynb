{
 "cells": [
  {
   "cell_type": "markdown",
   "metadata": {},
   "source": [
    "Selection sort loops through an array to find the smallest item, then puts it into a new list. This will take O(N^2)."
   ]
  },
  {
   "cell_type": "code",
   "execution_count": 1,
   "metadata": {},
   "outputs": [],
   "source": [
    "# define a function to identify the smallest index in list\n",
    "def find_smallest(arr):\n",
    "    # starting point\n",
    "    smallest = arr[0]\n",
    "    smallest_idx = 0\n",
    "    # loop through the list to find the actual smallest\n",
    "    for i in range(1, len(arr)):\n",
    "        if arr[i] < smallest:\n",
    "            smallest = arr[i]\n",
    "            smallest_idx = i\n",
    "    return smallest_idx\n",
    "\n",
    "# using function above, apply to selection sort\n",
    "def selection_sort(arr):\n",
    "    # empty list to store sorted array\n",
    "    new_arr = []\n",
    "    for i in range(len(arr)):\n",
    "        smallest_idx = find_smallest(arr)\n",
    "        # add smallest index and removing from arr at the same time using pop\n",
    "        new_arr.append(arr.pop(smallest_idx))\n",
    "    return new_arr"
   ]
  },
  {
   "cell_type": "code",
   "execution_count": 2,
   "metadata": {},
   "outputs": [
    {
     "name": "stdout",
     "output_type": "stream",
     "text": [
      "[2, 3, 5, 6, 10]\n"
     ]
    }
   ],
   "source": [
    "print(selection_sort([5,3,6,2,10]))"
   ]
  }
 ],
 "metadata": {
  "kernelspec": {
   "display_name": "Python 3.9.13 64-bit (microsoft store)",
   "language": "python",
   "name": "python3"
  },
  "language_info": {
   "codemirror_mode": {
    "name": "ipython",
    "version": 3
   },
   "file_extension": ".py",
   "mimetype": "text/x-python",
   "name": "python",
   "nbconvert_exporter": "python",
   "pygments_lexer": "ipython3",
   "version": "3.9.13"
  },
  "orig_nbformat": 4,
  "vscode": {
   "interpreter": {
    "hash": "b2ddd62d3916e1314aeb2a2a333a2f9ca5e78cd48ba171057379eb2164a7ad87"
   }
  }
 },
 "nbformat": 4,
 "nbformat_minor": 2
}
